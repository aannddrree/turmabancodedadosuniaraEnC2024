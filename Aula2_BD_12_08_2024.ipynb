{
  "nbformat": 4,
  "nbformat_minor": 0,
  "metadata": {
    "colab": {
      "provenance": [],
      "authorship_tag": "ABX9TyMX7KuvJT6h7EB+OjD9Uvkt",
      "include_colab_link": true
    },
    "kernelspec": {
      "name": "python3",
      "display_name": "Python 3"
    },
    "language_info": {
      "name": "python"
    }
  },
  "cells": [
    {
      "cell_type": "markdown",
      "metadata": {
        "id": "view-in-github",
        "colab_type": "text"
      },
      "source": [
        "<a href=\"https://colab.research.google.com/github/aannddrree/turmabancodedadosuniaraEnC2024/blob/main/Aula2_BD_12_08_2024.ipynb\" target=\"_parent\"><img src=\"https://colab.research.google.com/assets/colab-badge.svg\" alt=\"Open In Colab\"/></a>"
      ]
    },
    {
      "cell_type": "code",
      "execution_count": 1,
      "metadata": {
        "colab": {
          "base_uri": "https://localhost:8080/"
        },
        "id": "C8wluZl2wX-p",
        "outputId": "2c13c588-aa21-411f-dcad-e224790ea47d"
      },
      "outputs": [
        {
          "output_type": "stream",
          "name": "stdout",
          "text": [
            "teste turma uniara\n"
          ]
        }
      ],
      "source": [
        "print('teste turma uniara')"
      ]
    },
    {
      "cell_type": "code",
      "source": [
        "1 + 2"
      ],
      "metadata": {
        "colab": {
          "base_uri": "https://localhost:8080/"
        },
        "id": "VyltTv50w81I",
        "outputId": "eef5323e-2ed1-454c-c750-232cef916870"
      },
      "execution_count": 2,
      "outputs": [
        {
          "output_type": "execute_result",
          "data": {
            "text/plain": [
              "3"
            ]
          },
          "metadata": {},
          "execution_count": 2
        }
      ]
    },
    {
      "cell_type": "code",
      "source": [
        "# criando uma variavel recebendo o nome do arquivo\n",
        "arquivo = \"testeuniara.txt\"\n",
        "\n",
        "#abrir um arquivo e inserir as informações nele, w -> write (escrever)\n",
        "with open(arquivo, 'w') as f:\n",
        "    #escrevendo linha(s) no meu arquivo testeuniara.txt\n",
        "    f.write(\"Linha do meu arquivo legal!\\n\")\n",
        "    f.write(\"adoro gerar arquivos com python\")\n",
        "\n",
        "print(\"Gerou!\")"
      ],
      "metadata": {
        "colab": {
          "base_uri": "https://localhost:8080/"
        },
        "id": "7BK6MSF3xLTq",
        "outputId": "48c63ef2-fc80-4703-93fe-1158eb8391d7"
      },
      "execution_count": 4,
      "outputs": [
        {
          "output_type": "stream",
          "name": "stdout",
          "text": [
            "Gerou!\n"
          ]
        }
      ]
    }
  ]
}